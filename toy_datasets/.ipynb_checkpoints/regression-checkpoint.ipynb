{
 "cells": [
  {
   "cell_type": "markdown",
   "id": "0ad825ec",
   "metadata": {},
   "source": [
    "# carrega bibliotecas"
   ]
  },
  {
   "cell_type": "code",
   "execution_count": 1,
   "id": "a7f14e8f",
   "metadata": {},
   "outputs": [],
   "source": [
    "import pandas as pd\n",
    "import numpy as np\n",
    "import seaborn as sns\n",
    "import matplotlib.pyplot as plt\n",
    "from sklearn.model_selection import train_test_split\n",
    "from sklearn.linear_model import LogisticRegression, LinearRegression\n",
    "from sklearn.svm import SVC, SVR\n",
    "from sklearn.tree import DecisionTreeClassifier, DecisionTreeRegressor, plot_tree\n",
    "from sklearn import metrics\n",
    "from sklearn.model_selection import learning_curve, validation_curve\n",
    "from sklearn.datasets import load_boston\n",
    "from sklearn.preprocessing import StandardScaler, MinMaxScaler"
   ]
  },
  {
   "cell_type": "markdown",
   "id": "0d372ec1",
   "metadata": {},
   "source": [
    "# carregar base de dados"
   ]
  },
  {
   "cell_type": "code",
   "execution_count": 2,
   "id": "d5de27f3",
   "metadata": {},
   "outputs": [
    {
     "name": "stderr",
     "output_type": "stream",
     "text": [
      "/home/rmaia/miniconda3/envs/dim0613/lib/python3.9/site-packages/sklearn/utils/deprecation.py:87: FutureWarning: Function load_boston is deprecated; `load_boston` is deprecated in 1.0 and will be removed in 1.2.\n",
      "\n",
      "    The Boston housing prices dataset has an ethical problem. You can refer to\n",
      "    the documentation of this function for further details.\n",
      "\n",
      "    The scikit-learn maintainers therefore strongly discourage the use of this\n",
      "    dataset unless the purpose of the code is to study and educate about\n",
      "    ethical issues in data science and machine learning.\n",
      "\n",
      "    In this special case, you can fetch the dataset from the original\n",
      "    source::\n",
      "\n",
      "        import pandas as pd\n",
      "        import numpy as np\n",
      "\n",
      "        data_url = \"http://lib.stat.cmu.edu/datasets/boston\"\n",
      "        raw_df = pd.read_csv(data_url, sep=\"\\s+\", skiprows=22, header=None)\n",
      "        data = np.hstack([raw_df.values[::2, :], raw_df.values[1::2, :2]])\n",
      "        target = raw_df.values[1::2, 2]\n",
      "\n",
      "    Alternative datasets include the California housing dataset (i.e.\n",
      "    :func:`~sklearn.datasets.fetch_california_housing`) and the Ames housing\n",
      "    dataset. You can load the datasets as follows::\n",
      "\n",
      "        from sklearn.datasets import fetch_california_housing\n",
      "        housing = fetch_california_housing()\n",
      "\n",
      "    for the California housing dataset and::\n",
      "\n",
      "        from sklearn.datasets import fetch_openml\n",
      "        housing = fetch_openml(name=\"house_prices\", as_frame=True)\n",
      "\n",
      "    for the Ames housing dataset.\n",
      "  warnings.warn(msg, category=FutureWarning)\n"
     ]
    },
    {
     "data": {
      "image/png": "[encoded data removed]",
      "text/plain": [
       "<Figure size 1296x360 with 1 Axes>"
      ]
     },
     "metadata": {
      "needs_background": "light"
     },
     "output_type": "display_data"
    }
   ],
   "source": [
    "# carregando dados pela biblioteca do scikit-learn\n",
    "X, y = load_boston(return_X_y=True)\n",
    "scaler = StandardScaler()\n",
    "X = scaler.fit_transform(X)\n",
    "fig, ax = plt.subplots(figsize=(18,5))\n",
    "ax.hist(y, bins = 30)\n",
    "fig.tight_layout(pad=1.0)"
   ]
  },
  {
   "cell_type": "code",
   "execution_count": 3,
   "id": "e79cc915",
   "metadata": {},
   "outputs": [],
   "source": [
    "# define categories for the output\n",
    "y_cat = []\n",
    "for yi in y:\n",
    "    if yi < 20:\n",
    "        y_cat.append('cheap')\n",
    "    elif yi < 35:\n",
    "        y_cat.append('fair')\n",
    "    else:\n",
    "        y_cat.append('expensive')\n",
    "# feature names\n",
    "fn = ['CRIM','ZN','INDUS','CHAS','NOX','RM','AGE','DIS','RAD','TAX','PTRATIO','B','LSTAT','MEDV']\n",
    "# to visualize stats let's put numpy into dataframe format\n",
    "dataset = pd.DataFrame(np.concatenate((X,y.reshape(-1,1)), axis=1),\n",
    "                  columns=fn)\n",
    "dataset['cat'] = y_cat"
   ]
  },
  {
   "cell_type": "code",
   "execution_count": 4,
   "id": "9bb6fff7",
   "metadata": {},
   "outputs": [
    {
     "data": {
      "text/html": [
       "<div>\n",
       "<style scoped>\n",
       "    .dataframe tbody tr th:only-of-type {\n",
       "        vertical-align: middle;\n",
       "    }\n",
       "\n",
       "    .dataframe tbody tr th {\n",
       "        vertical-align: top;\n",
       "    }\n",
       "\n",
       "    .dataframe thead th {\n",
       "        text-align: right;\n",
       "    }\n",
       "</style>\n",
       "<table border=\"1\" class=\"dataframe\">\n",
       "  <thead>\n",
       "    <tr style=\"text-align: right;\">\n",
       "      <th></th>\n",
       "      <th>CRIM</th>\n",
       "      <th>ZN</th>\n",
       "      <th>INDUS</th>\n",
       "      <th>CHAS</th>\n",
       "      <th>NOX</th>\n",
       "      <th>RM</th>\n",
       "      <th>AGE</th>\n",
       "      <th>DIS</th>\n",
       "      <th>RAD</th>\n",
       "      <th>TAX</th>\n",
       "      <th>PTRATIO</th>\n",
       "      <th>B</th>\n",
       "      <th>LSTAT</th>\n",
       "      <th>MEDV</th>\n",
       "      <th>cat</th>\n",
       "    </tr>\n",
       "  </thead>\n",
       "  <tbody>\n",
       "    <tr>\n",
       "      <th>0</th>\n",
       "      <td>-0.419782</td>\n",
       "      <td>0.284830</td>\n",
       "      <td>-1.287909</td>\n",
       "      <td>-0.272599</td>\n",
       "      <td>-0.144217</td>\n",
       "      <td>0.413672</td>\n",
       "      <td>-0.120013</td>\n",
       "      <td>0.140214</td>\n",
       "      <td>-0.982843</td>\n",
       "      <td>-0.666608</td>\n",
       "      <td>-1.459000</td>\n",
       "      <td>0.441052</td>\n",
       "      <td>-1.075562</td>\n",
       "      <td>24.0</td>\n",
       "      <td>fair</td>\n",
       "    </tr>\n",
       "    <tr>\n",
       "      <th>1</th>\n",
       "      <td>-0.417339</td>\n",
       "      <td>-0.487722</td>\n",
       "      <td>-0.593381</td>\n",
       "      <td>-0.272599</td>\n",
       "      <td>-0.740262</td>\n",
       "      <td>0.194274</td>\n",
       "      <td>0.367166</td>\n",
       "      <td>0.557160</td>\n",
       "      <td>-0.867883</td>\n",
       "      <td>-0.987329</td>\n",
       "      <td>-0.303094</td>\n",
       "      <td>0.441052</td>\n",
       "      <td>-0.492439</td>\n",
       "      <td>21.6</td>\n",
       "      <td>fair</td>\n",
       "    </tr>\n",
       "    <tr>\n",
       "      <th>2</th>\n",
       "      <td>-0.417342</td>\n",
       "      <td>-0.487722</td>\n",
       "      <td>-0.593381</td>\n",
       "      <td>-0.272599</td>\n",
       "      <td>-0.740262</td>\n",
       "      <td>1.282714</td>\n",
       "      <td>-0.265812</td>\n",
       "      <td>0.557160</td>\n",
       "      <td>-0.867883</td>\n",
       "      <td>-0.987329</td>\n",
       "      <td>-0.303094</td>\n",
       "      <td>0.396427</td>\n",
       "      <td>-1.208727</td>\n",
       "      <td>34.7</td>\n",
       "      <td>fair</td>\n",
       "    </tr>\n",
       "    <tr>\n",
       "      <th>3</th>\n",
       "      <td>-0.416750</td>\n",
       "      <td>-0.487722</td>\n",
       "      <td>-1.306878</td>\n",
       "      <td>-0.272599</td>\n",
       "      <td>-0.835284</td>\n",
       "      <td>1.016303</td>\n",
       "      <td>-0.809889</td>\n",
       "      <td>1.077737</td>\n",
       "      <td>-0.752922</td>\n",
       "      <td>-1.106115</td>\n",
       "      <td>0.113032</td>\n",
       "      <td>0.416163</td>\n",
       "      <td>-1.361517</td>\n",
       "      <td>33.4</td>\n",
       "      <td>fair</td>\n",
       "    </tr>\n",
       "    <tr>\n",
       "      <th>4</th>\n",
       "      <td>-0.412482</td>\n",
       "      <td>-0.487722</td>\n",
       "      <td>-1.306878</td>\n",
       "      <td>-0.272599</td>\n",
       "      <td>-0.835284</td>\n",
       "      <td>1.228577</td>\n",
       "      <td>-0.511180</td>\n",
       "      <td>1.077737</td>\n",
       "      <td>-0.752922</td>\n",
       "      <td>-1.106115</td>\n",
       "      <td>0.113032</td>\n",
       "      <td>0.441052</td>\n",
       "      <td>-1.026501</td>\n",
       "      <td>36.2</td>\n",
       "      <td>expensive</td>\n",
       "    </tr>\n",
       "    <tr>\n",
       "      <th>...</th>\n",
       "      <td>...</td>\n",
       "      <td>...</td>\n",
       "      <td>...</td>\n",
       "      <td>...</td>\n",
       "      <td>...</td>\n",
       "      <td>...</td>\n",
       "      <td>...</td>\n",
       "      <td>...</td>\n",
       "      <td>...</td>\n",
       "      <td>...</td>\n",
       "      <td>...</td>\n",
       "      <td>...</td>\n",
       "      <td>...</td>\n",
       "      <td>...</td>\n",
       "      <td>...</td>\n",
       "    </tr>\n",
       "    <tr>\n",
       "      <th>501</th>\n",
       "      <td>-0.413229</td>\n",
       "      <td>-0.487722</td>\n",
       "      <td>0.115738</td>\n",
       "      <td>-0.272599</td>\n",
       "      <td>0.158124</td>\n",
       "      <td>0.439316</td>\n",
       "      <td>0.018673</td>\n",
       "      <td>-0.625796</td>\n",
       "      <td>-0.982843</td>\n",
       "      <td>-0.803212</td>\n",
       "      <td>1.176466</td>\n",
       "      <td>0.387217</td>\n",
       "      <td>-0.418147</td>\n",
       "      <td>22.4</td>\n",
       "      <td>fair</td>\n",
       "    </tr>\n",
       "    <tr>\n",
       "      <th>502</th>\n",
       "      <td>-0.415249</td>\n",
       "      <td>-0.487722</td>\n",
       "      <td>0.115738</td>\n",
       "      <td>-0.272599</td>\n",
       "      <td>0.158124</td>\n",
       "      <td>-0.234548</td>\n",
       "      <td>0.288933</td>\n",
       "      <td>-0.716639</td>\n",
       "      <td>-0.982843</td>\n",
       "      <td>-0.803212</td>\n",
       "      <td>1.176466</td>\n",
       "      <td>0.441052</td>\n",
       "      <td>-0.500850</td>\n",
       "      <td>20.6</td>\n",
       "      <td>fair</td>\n",
       "    </tr>\n",
       "    <tr>\n",
       "      <th>503</th>\n",
       "      <td>-0.413447</td>\n",
       "      <td>-0.487722</td>\n",
       "      <td>0.115738</td>\n",
       "      <td>-0.272599</td>\n",
       "      <td>0.158124</td>\n",
       "      <td>0.984960</td>\n",
       "      <td>0.797449</td>\n",
       "      <td>-0.773684</td>\n",
       "      <td>-0.982843</td>\n",
       "      <td>-0.803212</td>\n",
       "      <td>1.176466</td>\n",
       "      <td>0.441052</td>\n",
       "      <td>-0.983048</td>\n",
       "      <td>23.9</td>\n",
       "      <td>fair</td>\n",
       "    </tr>\n",
       "    <tr>\n",
       "      <th>504</th>\n",
       "      <td>-0.407764</td>\n",
       "      <td>-0.487722</td>\n",
       "      <td>0.115738</td>\n",
       "      <td>-0.272599</td>\n",
       "      <td>0.158124</td>\n",
       "      <td>0.725672</td>\n",
       "      <td>0.736996</td>\n",
       "      <td>-0.668437</td>\n",
       "      <td>-0.982843</td>\n",
       "      <td>-0.803212</td>\n",
       "      <td>1.176466</td>\n",
       "      <td>0.403225</td>\n",
       "      <td>-0.865302</td>\n",
       "      <td>22.0</td>\n",
       "      <td>fair</td>\n",
       "    </tr>\n",
       "    <tr>\n",
       "      <th>505</th>\n",
       "      <td>-0.415000</td>\n",
       "      <td>-0.487722</td>\n",
       "      <td>0.115738</td>\n",
       "      <td>-0.272599</td>\n",
       "      <td>0.158124</td>\n",
       "      <td>-0.362767</td>\n",
       "      <td>0.434732</td>\n",
       "      <td>-0.613246</td>\n",
       "      <td>-0.982843</td>\n",
       "      <td>-0.803212</td>\n",
       "      <td>1.176466</td>\n",
       "      <td>0.441052</td>\n",
       "      <td>-0.669058</td>\n",
       "      <td>11.9</td>\n",
       "      <td>cheap</td>\n",
       "    </tr>\n",
       "  </tbody>\n",
       "</table>\n",
       "<p>506 rows × 15 columns</p>\n",
       "</div>"
      ],
      "text/plain": [
       "         CRIM        ZN     INDUS      CHAS       NOX        RM       AGE  \\\n",
       "0   -0.419782  0.284830 -1.287909 -0.272599 -0.144217  0.413672 -0.120013   \n",
       "1   -0.417339 -0.487722 -0.593381 -0.272599 -0.740262  0.194274  0.367166   \n",
       "2   -0.417342 -0.487722 -0.593381 -0.272599 -0.740262  1.282714 -0.265812   \n",
       "3   -0.416750 -0.487722 -1.306878 -0.272599 -0.835284  1.016303 -0.809889   \n",
       "4   -0.412482 -0.487722 -1.306878 -0.272599 -0.835284  1.228577 -0.511180   \n",
       "..        ...       ...       ...       ...       ...       ...       ...   \n",
       "501 -0.413229 -0.487722  0.115738 -0.272599  0.158124  0.439316  0.018673   \n",
       "502 -0.415249 -0.487722  0.115738 -0.272599  0.158124 -0.234548  0.288933   \n",
       "503 -0.413447 -0.487722  0.115738 -0.272599  0.158124  0.984960  0.797449   \n",
       "504 -0.407764 -0.487722  0.115738 -0.272599  0.158124  0.725672  0.736996   \n",
       "505 -0.415000 -0.487722  0.115738 -0.272599  0.158124 -0.362767  0.434732   \n",
       "\n",
       "          DIS       RAD       TAX   PTRATIO         B     LSTAT  MEDV  \\\n",
       "0    0.140214 -0.982843 -0.666608 -1.459000  0.441052 -1.075562  24.0   \n",
       "1    0.557160 -0.867883 -0.987329 -0.303094  0.441052 -0.492439  21.6   \n",
       "2    0.557160 -0.867883 -0.987329 -0.303094  0.396427 -1.208727  34.7   \n",
       "3    1.077737 -0.752922 -1.106115  0.113032  0.416163 -1.361517  33.4   \n",
       "4    1.077737 -0.752922 -1.106115  0.113032  0.441052 -1.026501  36.2   \n",
       "..        ...       ...       ...       ...       ...       ...   ...   \n",
       "501 -0.625796 -0.982843 -0.803212  1.176466  0.387217 -0.418147  22.4   \n",
       "502 -0.716639 -0.982843 -0.803212  1.176466  0.441052 -0.500850  20.6   \n",
       "503 -0.773684 -0.982843 -0.803212  1.176466  0.441052 -0.983048  23.9   \n",
       "504 -0.668437 -0.982843 -0.803212  1.176466  0.403225 -0.865302  22.0   \n",
       "505 -0.613246 -0.982843 -0.803212  1.176466  0.441052 -0.669058  11.9   \n",
       "\n",
       "           cat  \n",
       "0         fair  \n",
       "1         fair  \n",
       "2         fair  \n",
       "3         fair  \n",
       "4    expensive  \n",
       "..         ...  \n",
       "501       fair  \n",
       "502       fair  \n",
       "503       fair  \n",
       "504       fair  \n",
       "505      cheap  \n",
       "\n",
       "[506 rows x 15 columns]"
      ]
     },
     "execution_count": 4,
     "metadata": {},
     "output_type": "execute_result"
    }
   ],
   "source": [
    "dataset"
   ]
  },
  {
   "cell_type": "markdown",
   "id": "08e4e4ab",
   "metadata": {},
   "source": [
    "# visualizar dados"
   ]
  },
  {
   "cell_type": "code",
   "execution_count": 5,
   "id": "4d037005",
   "metadata": {},
   "outputs": [
    {
     "data": {
      "text/plain": [
       "CRIM       float64\n",
       "ZN         float64\n",
       "INDUS      float64\n",
       "CHAS       float64\n",
       "NOX        float64\n",
       "RM         float64\n",
       "AGE        float64\n",
       "DIS        float64\n",
       "RAD        float64\n",
       "TAX        float64\n",
       "PTRATIO    float64\n",
       "B          float64\n",
       "LSTAT      float64\n",
       "MEDV       float64\n",
       "cat         object\n",
       "dtype: object"
      ]
     },
     "execution_count": 5,
     "metadata": {},
     "output_type": "execute_result"
    }
   ],
   "source": [
    "# tipos de colunas\n",
    "dataset.dtypes"
   ]
  },
  {
   "cell_type": "code",
   "execution_count": 6,
   "id": "ce31b645",
   "metadata": {},
   "outputs": [
    {
     "data": {
      "text/html": [
       "<div>\n",
       "<style scoped>\n",
       "    .dataframe tbody tr th:only-of-type {\n",
       "        vertical-align: middle;\n",
       "    }\n",
       "\n",
       "    .dataframe tbody tr th {\n",
       "        vertical-align: top;\n",
       "    }\n",
       "\n",
       "    .dataframe thead th {\n",
       "        text-align: right;\n",
       "    }\n",
       "</style>\n",
       "<table border=\"1\" class=\"dataframe\">\n",
       "  <thead>\n",
       "    <tr style=\"text-align: right;\">\n",
       "      <th></th>\n",
       "      <th>CRIM</th>\n",
       "      <th>ZN</th>\n",
       "      <th>INDUS</th>\n",
       "      <th>CHAS</th>\n",
       "      <th>NOX</th>\n",
       "      <th>RM</th>\n",
       "      <th>AGE</th>\n",
       "      <th>DIS</th>\n",
       "      <th>RAD</th>\n",
       "      <th>TAX</th>\n",
       "      <th>PTRATIO</th>\n",
       "      <th>B</th>\n",
       "      <th>LSTAT</th>\n",
       "      <th>MEDV</th>\n",
       "    </tr>\n",
       "  </thead>\n",
       "  <tbody>\n",
       "    <tr>\n",
       "      <th>count</th>\n",
       "      <td>5.060000e+02</td>\n",
       "      <td>5.060000e+02</td>\n",
       "      <td>5.060000e+02</td>\n",
       "      <td>5.060000e+02</td>\n",
       "      <td>5.060000e+02</td>\n",
       "      <td>5.060000e+02</td>\n",
       "      <td>5.060000e+02</td>\n",
       "      <td>5.060000e+02</td>\n",
       "      <td>5.060000e+02</td>\n",
       "      <td>5.060000e+02</td>\n",
       "      <td>5.060000e+02</td>\n",
       "      <td>5.060000e+02</td>\n",
       "      <td>5.060000e+02</td>\n",
       "      <td>506.000000</td>\n",
       "    </tr>\n",
       "    <tr>\n",
       "      <th>mean</th>\n",
       "      <td>-8.787437e-17</td>\n",
       "      <td>-6.343191e-16</td>\n",
       "      <td>-2.682911e-15</td>\n",
       "      <td>4.701992e-16</td>\n",
       "      <td>2.490322e-15</td>\n",
       "      <td>-1.145230e-14</td>\n",
       "      <td>-1.407855e-15</td>\n",
       "      <td>9.210902e-16</td>\n",
       "      <td>5.441409e-16</td>\n",
       "      <td>-8.868619e-16</td>\n",
       "      <td>-9.205636e-15</td>\n",
       "      <td>8.163101e-15</td>\n",
       "      <td>-3.370163e-16</td>\n",
       "      <td>22.532806</td>\n",
       "    </tr>\n",
       "    <tr>\n",
       "      <th>std</th>\n",
       "      <td>1.000990e+00</td>\n",
       "      <td>1.000990e+00</td>\n",
       "      <td>1.000990e+00</td>\n",
       "      <td>1.000990e+00</td>\n",
       "      <td>1.000990e+00</td>\n",
       "      <td>1.000990e+00</td>\n",
       "      <td>1.000990e+00</td>\n",
       "      <td>1.000990e+00</td>\n",
       "      <td>1.000990e+00</td>\n",
       "      <td>1.000990e+00</td>\n",
       "      <td>1.000990e+00</td>\n",
       "      <td>1.000990e+00</td>\n",
       "      <td>1.000990e+00</td>\n",
       "      <td>9.197104</td>\n",
       "    </tr>\n",
       "    <tr>\n",
       "      <th>min</th>\n",
       "      <td>-4.197819e-01</td>\n",
       "      <td>-4.877224e-01</td>\n",
       "      <td>-1.557842e+00</td>\n",
       "      <td>-2.725986e-01</td>\n",
       "      <td>-1.465882e+00</td>\n",
       "      <td>-3.880249e+00</td>\n",
       "      <td>-2.335437e+00</td>\n",
       "      <td>-1.267069e+00</td>\n",
       "      <td>-9.828429e-01</td>\n",
       "      <td>-1.313990e+00</td>\n",
       "      <td>-2.707379e+00</td>\n",
       "      <td>-3.907193e+00</td>\n",
       "      <td>-1.531127e+00</td>\n",
       "      <td>5.000000</td>\n",
       "    </tr>\n",
       "    <tr>\n",
       "      <th>25%</th>\n",
       "      <td>-4.109696e-01</td>\n",
       "      <td>-4.877224e-01</td>\n",
       "      <td>-8.676906e-01</td>\n",
       "      <td>-2.725986e-01</td>\n",
       "      <td>-9.130288e-01</td>\n",
       "      <td>-5.686303e-01</td>\n",
       "      <td>-8.374480e-01</td>\n",
       "      <td>-8.056878e-01</td>\n",
       "      <td>-6.379618e-01</td>\n",
       "      <td>-7.675760e-01</td>\n",
       "      <td>-4.880391e-01</td>\n",
       "      <td>2.050715e-01</td>\n",
       "      <td>-7.994200e-01</td>\n",
       "      <td>17.025000</td>\n",
       "    </tr>\n",
       "    <tr>\n",
       "      <th>50%</th>\n",
       "      <td>-3.906665e-01</td>\n",
       "      <td>-4.877224e-01</td>\n",
       "      <td>-2.110985e-01</td>\n",
       "      <td>-2.725986e-01</td>\n",
       "      <td>-1.442174e-01</td>\n",
       "      <td>-1.084655e-01</td>\n",
       "      <td>3.173816e-01</td>\n",
       "      <td>-2.793234e-01</td>\n",
       "      <td>-5.230014e-01</td>\n",
       "      <td>-4.646726e-01</td>\n",
       "      <td>2.748590e-01</td>\n",
       "      <td>3.811865e-01</td>\n",
       "      <td>-1.812536e-01</td>\n",
       "      <td>21.200000</td>\n",
       "    </tr>\n",
       "    <tr>\n",
       "      <th>75%</th>\n",
       "      <td>7.396560e-03</td>\n",
       "      <td>4.877224e-02</td>\n",
       "      <td>1.015999e+00</td>\n",
       "      <td>-2.725986e-01</td>\n",
       "      <td>5.986790e-01</td>\n",
       "      <td>4.827678e-01</td>\n",
       "      <td>9.067981e-01</td>\n",
       "      <td>6.623709e-01</td>\n",
       "      <td>1.661245e+00</td>\n",
       "      <td>1.530926e+00</td>\n",
       "      <td>8.065758e-01</td>\n",
       "      <td>4.336510e-01</td>\n",
       "      <td>6.030188e-01</td>\n",
       "      <td>25.000000</td>\n",
       "    </tr>\n",
       "    <tr>\n",
       "      <th>max</th>\n",
       "      <td>9.933931e+00</td>\n",
       "      <td>3.804234e+00</td>\n",
       "      <td>2.422565e+00</td>\n",
       "      <td>3.668398e+00</td>\n",
       "      <td>2.732346e+00</td>\n",
       "      <td>3.555044e+00</td>\n",
       "      <td>1.117494e+00</td>\n",
       "      <td>3.960518e+00</td>\n",
       "      <td>1.661245e+00</td>\n",
       "      <td>1.798194e+00</td>\n",
       "      <td>1.638828e+00</td>\n",
       "      <td>4.410519e-01</td>\n",
       "      <td>3.548771e+00</td>\n",
       "      <td>50.000000</td>\n",
       "    </tr>\n",
       "  </tbody>\n",
       "</table>\n",
       "</div>"
      ],
      "text/plain": [
       "               CRIM            ZN         INDUS          CHAS           NOX  \\\n",
       "count  5.060000e+02  5.060000e+02  5.060000e+02  5.060000e+02  5.060000e+02   \n",
       "mean  -8.787437e-17 -6.343191e-16 -2.682911e-15  4.701992e-16  2.490322e-15   \n",
       "std    1.000990e+00  1.000990e+00  1.000990e+00  1.000990e+00  1.000990e+00   \n",
       "min   -4.197819e-01 -4.877224e-01 -1.557842e+00 -2.725986e-01 -1.465882e+00   \n",
       "25%   -4.109696e-01 -4.877224e-01 -8.676906e-01 -2.725986e-01 -9.130288e-01   \n",
       "50%   -3.906665e-01 -4.877224e-01 -2.110985e-01 -2.725986e-01 -1.442174e-01   \n",
       "75%    7.396560e-03  4.877224e-02  1.015999e+00 -2.725986e-01  5.986790e-01   \n",
       "max    9.933931e+00  3.804234e+00  2.422565e+00  3.668398e+00  2.732346e+00   \n",
       "\n",
       "                 RM           AGE           DIS           RAD           TAX  \\\n",
       "count  5.060000e+02  5.060000e+02  5.060000e+02  5.060000e+02  5.060000e+02   \n",
       "mean  -1.145230e-14 -1.407855e-15  9.210902e-16  5.441409e-16 -8.868619e-16   \n",
       "std    1.000990e+00  1.000990e+00  1.000990e+00  1.000990e+00  1.000990e+00   \n",
       "min   -3.880249e+00 -2.335437e+00 -1.267069e+00 -9.828429e-01 -1.313990e+00   \n",
       "25%   -5.686303e-01 -8.374480e-01 -8.056878e-01 -6.379618e-01 -7.675760e-01   \n",
       "50%   -1.084655e-01  3.173816e-01 -2.793234e-01 -5.230014e-01 -4.646726e-01   \n",
       "75%    4.827678e-01  9.067981e-01  6.623709e-01  1.661245e+00  1.530926e+00   \n",
       "max    3.555044e+00  1.117494e+00  3.960518e+00  1.661245e+00  1.798194e+00   \n",
       "\n",
       "            PTRATIO             B         LSTAT        MEDV  \n",
       "count  5.060000e+02  5.060000e+02  5.060000e+02  506.000000  \n",
       "mean  -9.205636e-15  8.163101e-15 -3.370163e-16   22.532806  \n",
       "std    1.000990e+00  1.000990e+00  1.000990e+00    9.197104  \n",
       "min   -2.707379e+00 -3.907193e+00 -1.531127e+00    5.000000  \n",
       "25%   -4.880391e-01  2.050715e-01 -7.994200e-01   17.025000  \n",
       "50%    2.748590e-01  3.811865e-01 -1.812536e-01   21.200000  \n",
       "75%    8.065758e-01  4.336510e-01  6.030188e-01   25.000000  \n",
       "max    1.638828e+00  4.410519e-01  3.548771e+00   50.000000  "
      ]
     },
     "execution_count": 6,
     "metadata": {},
     "output_type": "execute_result"
    }
   ],
   "source": [
    "# resumo numérico dos dados (média, desvio padrão, mínimo, máximo)\n",
    "dataset.describe()"
   ]
  },
  {
   "cell_type": "code",
   "execution_count": 7,
   "id": "bedc0bd3",
   "metadata": {},
   "outputs": [
    {
     "data": {
      "text/plain": [
       "cat\n",
       "cheap        210\n",
       "expensive     48\n",
       "fair         248\n",
       "dtype: int64"
      ]
     },
     "execution_count": 7,
     "metadata": {},
     "output_type": "execute_result"
    }
   ],
   "source": [
    "# número de exemplos em cada classe\n",
    "dataset.groupby('cat').size()"
   ]
  },
  {
   "cell_type": "markdown",
   "id": "fea72b8e",
   "metadata": {},
   "source": [
    "# analisar dados"
   ]
  },
  {
   "cell_type": "code",
   "execution_count": 8,
   "id": "6a35b0f1",
   "metadata": {},
   "outputs": [],
   "source": [
    "# separar dados entre treino e teste\n",
    "train, test = train_test_split(dataset, test_size = 0.4, random_state = 42)"
   ]
  },
  {
   "cell_type": "code",
   "execution_count": 9,
   "id": "338b887c",
   "metadata": {},
   "outputs": [
    {
     "name": "stdout",
     "output_type": "stream",
     "text": [
      "Treino:\n",
      "             CRIM          ZN       INDUS        CHAS         NOX          RM  \\\n",
      "count  303.000000  303.000000  303.000000  303.000000  303.000000  303.000000   \n",
      "mean    -0.031230    0.040911   -0.016981   -0.012467   -0.015503    0.085540   \n",
      "std      0.922363    1.017924    1.019142    0.980143    0.997482    1.044858   \n",
      "min     -0.419463   -0.487722   -1.448410   -0.272599   -1.465882   -3.450002   \n",
      "25%     -0.411334   -0.487722   -0.905627   -0.272599   -0.921667   -0.554384   \n",
      "50%     -0.391193   -0.487722   -0.211099   -0.272599   -0.144217   -0.079260   \n",
      "75%     -0.066301    0.370669    1.015999   -0.272599    0.628913    0.621672   \n",
      "max      9.933931    3.589637    2.422565    3.668398    2.732346    3.555044   \n",
      "\n",
      "              AGE         DIS         RAD         TAX     PTRATIO           B  \\\n",
      "count  303.000000  303.000000  303.000000  303.000000  303.000000  303.000000   \n",
      "mean    -0.020643    0.026922   -0.025219   -0.027518   -0.099075    0.009937   \n",
      "std      0.988679    1.033314    0.992482    0.986986    1.041485    0.987895   \n",
      "min     -2.335437   -1.267069   -0.982843   -1.313990   -2.707379   -3.882195   \n",
      "25%     -0.841893   -0.817465   -0.637962   -0.773515   -0.857929    0.215789   \n",
      "50%      0.288933   -0.248591   -0.523001   -0.464673    0.066796    0.381296   \n",
      "75%      0.866792    0.778825    0.741562    1.530926    0.806576    0.433596   \n",
      "max      1.117494    3.960518    1.661245    1.798194    1.638828    0.441052   \n",
      "\n",
      "            LSTAT        MEDV  \n",
      "count  303.000000  303.000000  \n",
      "mean    -0.051683   23.124092  \n",
      "std      0.982992    9.461615  \n",
      "min     -1.531127    6.300000  \n",
      "25%     -0.826754   17.400000  \n",
      "50%     -0.283580   21.900000  \n",
      "75%      0.499991   26.600000  \n",
      "max      3.548771   50.000000  \n",
      "cat\n",
      "cheap        114\n",
      "expensive     32\n",
      "fair         157\n",
      "dtype: int64\n"
     ]
    }
   ],
   "source": [
    "# compara as bases de treino\n",
    "print('Treino:')\n",
    "print(train.describe())\n",
    "print(train.groupby('cat').size())"
   ]
  },
  {
   "cell_type": "code",
   "execution_count": 10,
   "id": "2c8cafe5",
   "metadata": {},
   "outputs": [
    {
     "name": "stdout",
     "output_type": "stream",
     "text": [
      "Test:\n",
      "             CRIM          ZN       INDUS        CHAS         NOX          RM  \\\n",
      "count  203.000000  203.000000  203.000000  203.000000  203.000000  203.000000   \n",
      "mean     0.046614   -0.061064    0.025346    0.018608    0.023141   -0.127677   \n",
      "std      1.108777    0.974458    0.975212    1.033491    1.008227    0.919458   \n",
      "min     -0.419782   -0.487722   -1.557842   -0.272599   -1.405414   -3.880249   \n",
      "25%     -0.410410   -0.487722   -0.762636   -0.272599   -0.800731   -0.586439   \n",
      "50%     -0.389285   -0.487722   -0.211099   -0.272599   -0.144217   -0.157616   \n",
      "75%      0.067505   -0.487722    1.015999   -0.272599    0.598679    0.274768   \n",
      "max      8.136884    3.804234    2.422565    3.668398    2.732346    3.476688   \n",
      "\n",
      "              AGE         DIS         RAD         TAX     PTRATIO           B  \\\n",
      "count  203.000000  203.000000  203.000000  203.000000  203.000000  203.000000   \n",
      "mean     0.030812   -0.040184    0.037643    0.041073    0.147880   -0.014832   \n",
      "std      1.020768    0.951798    1.014849    1.022609    0.920099    1.022500   \n",
      "min     -2.218087   -1.248292   -0.982843   -1.308051   -2.522434   -3.907193   \n",
      "25%     -0.836559   -0.798141   -0.637962   -0.737880   -0.303094    0.182183   \n",
      "50%      0.402727   -0.330735   -0.523001   -0.375583    0.344213    0.378884   \n",
      "75%      0.952138    0.475729    1.661245    1.530926    0.806576    0.433870   \n",
      "max      1.117494    3.287300    1.661245    1.798194    1.638828    0.441052   \n",
      "\n",
      "            LSTAT        MEDV  \n",
      "count  203.000000  203.000000  \n",
      "mean     0.077143   21.650246  \n",
      "std      1.024859    8.736106  \n",
      "min     -1.371329    5.000000  \n",
      "25%     -0.717418   16.650000  \n",
      "50%     -0.085935   20.200000  \n",
      "75%      0.659088   24.400000  \n",
      "max      3.409999   50.000000  \n",
      "cat\n",
      "cheap        96\n",
      "expensive    16\n",
      "fair         91\n",
      "dtype: int64\n"
     ]
    }
   ],
   "source": [
    "# compara as bases de treino\n",
    "print('Test:')\n",
    "print(test.describe())\n",
    "print(test.groupby('cat').size())"
   ]
  },
  {
   "cell_type": "code",
   "execution_count": 11,
   "id": "4eb10d0b",
   "metadata": {},
   "outputs": [
    {
     "data": {
      "image/png": "[encoded data removed]",
      "text/plain": [
       "<Figure size 1296x720 with 12 Axes>"
      ]
     },
     "metadata": {
      "needs_background": "light"
     },
     "output_type": "display_data"
    }
   ],
   "source": [
    "# histograms\n",
    "n_bins = 10\n",
    "fn = ['CRIM','ZN','INDUS','CHAS','NOX','RM','AGE','DIS','RAD','TAX','PTRATIO','LSTAT']\n",
    "k = 0\n",
    "fig, axs = plt.subplots(3, 4, figsize=(18,10))\n",
    "for i in range(3):\n",
    "    for j in range(4):\n",
    "        axs[i,j].hist(train[fn[k]], bins = n_bins)\n",
    "        axs[i,j].set_title(fn[k])\n",
    "        k += 1\n",
    "# add some spacing between subplots\n",
    "fig.tight_layout(pad=1.0)"
   ]
  },
  {
   "cell_type": "code",
   "execution_count": 12,
   "id": "6b0f4bca",
   "metadata": {},
   "outputs": [
    {
     "data": {
      "image/png": "[encoded data removed]",
      "text/plain": [
       "<Figure size 1296x720 with 12 Axes>"
      ]
     },
     "metadata": {
      "needs_background": "light"
     },
     "output_type": "display_data"
    }
   ],
   "source": [
    "# boxplots using seaborn\n",
    "k = 0\n",
    "fig, axs = plt.subplots(3, 4, figsize=(18,10))\n",
    "fn = ['CRIM','ZN','INDUS','CHAS','NOX','RM','AGE','DIS','RAD','TAX','PTRATIO','LSTAT']\n",
    "cn = ['cheap', 'expensive', 'fair']\n",
    "for i in range(3):\n",
    "    for j in range(4):\n",
    "        sns.boxplot(x = 'cat', y = fn[k], data = train, order = cn, ax = axs[i,j])\n",
    "        k += 1\n",
    "# add some spacing between subplots\n",
    "fig.tight_layout(pad=1.0)"
   ]
  },
  {
   "cell_type": "code",
   "execution_count": 14,
   "id": "ed72f0a6",
   "metadata": {},
   "outputs": [
    {
     "name": "stderr",
     "output_type": "stream",
     "text": [
      "/home/rmaia/miniconda3/envs/dim0613/lib/python3.9/site-packages/seaborn/distributions.py:2619: FutureWarning: `distplot` is a deprecated function and will be removed in a future version. Please adapt your code to use either `displot` (a figure-level function with similar flexibility) or `histplot` (an axes-level function for histograms).\n",
      "  warnings.warn(msg, FutureWarning)\n",
      "/home/rmaia/miniconda3/envs/dim0613/lib/python3.9/site-packages/seaborn/distributions.py:2619: FutureWarning: `distplot` is a deprecated function and will be removed in a future version. Please adapt your code to use either `displot` (a figure-level function with similar flexibility) or `histplot` (an axes-level function for histograms).\n",
      "  warnings.warn(msg, FutureWarning)\n",
      "/home/rmaia/miniconda3/envs/dim0613/lib/python3.9/site-packages/seaborn/distributions.py:2619: FutureWarning: `distplot` is a deprecated function and will be removed in a future version. Please adapt your code to use either `displot` (a figure-level function with similar flexibility) or `histplot` (an axes-level function for histograms).\n",
      "  warnings.warn(msg, FutureWarning)\n",
      "/home/rmaia/miniconda3/envs/dim0613/lib/python3.9/site-packages/seaborn/distributions.py:2619: FutureWarning: `distplot` is a deprecated function and will be removed in a future version. Please adapt your code to use either `displot` (a figure-level function with similar flexibility) or `histplot` (an axes-level function for histograms).\n",
      "  warnings.warn(msg, FutureWarning)\n",
      "/home/rmaia/miniconda3/envs/dim0613/lib/python3.9/site-packages/seaborn/distributions.py:2619: FutureWarning: `distplot` is a deprecated function and will be removed in a future version. Please adapt your code to use either `displot` (a figure-level function with similar flexibility) or `histplot` (an axes-level function for histograms).\n",
      "  warnings.warn(msg, FutureWarning)\n",
      "/home/rmaia/miniconda3/envs/dim0613/lib/python3.9/site-packages/seaborn/distributions.py:2619: FutureWarning: `distplot` is a deprecated function and will be removed in a future version. Please adapt your code to use either `displot` (a figure-level function with similar flexibility) or `histplot` (an axes-level function for histograms).\n",
      "  warnings.warn(msg, FutureWarning)\n"
     ]
    },
    {
     "data": {
      "text/plain": [
       "<matplotlib.legend.Legend at 0x7f78d4d93280>"
      ]
     },
     "execution_count": 14,
     "metadata": {},
     "output_type": "execute_result"
    },
    {
     "data": {
      "image/png": "[encoded data removed]",
      "text/plain": [
       "<Figure size 1080x288 with 2 Axes>"
      ]
     },
     "metadata": {
      "needs_background": "light"
     },
     "output_type": "display_data"
    }
   ],
   "source": [
    "# histogram by categories\n",
    "cheap_crim = train.loc[train.cat=='cheap', 'INDUS']\n",
    "fair_crim = train.loc[train.cat=='fair', 'INDUS']\n",
    "expensive_crim = train.loc[train.cat=='expensive', 'INDUS']\n",
    "cheap_lstat = train.loc[train.cat=='cheap', 'LSTAT']\n",
    "fair_lstat = train.loc[train.cat=='fair', 'LSTAT']\n",
    "expensive_lstat = train.loc[train.cat=='expensive', 'LSTAT']\n",
    "\n",
    "fig, axs = plt.subplots(1, 2)\n",
    "\n",
    "# set figure size\n",
    "fig.set_size_inches(15,4)\n",
    "ax1 = sns.distplot(cheap_crim, color=\"blue\", label=\"cheap\", ax = axs[0])\n",
    "ax1.set_title('INDUS')\n",
    "ax1 = sns.distplot(fair_crim, color=\"red\", label=\"fair\", ax = axs[0])\n",
    "ax1 = sns.distplot(expensive_crim, color=\"green\", label=\"expensive\", ax = axs[0])\n",
    "ax1.legend()\n",
    "\n",
    "ax2 = sns.distplot(cheap_lstat, color=\"blue\", label=\"cheap\", ax = axs[1])\n",
    "ax2.set_title('LSTAT')\n",
    "ax2 = sns.distplot(fair_lstat, color=\"red\", label=\"fair\", ax = axs[1])\n",
    "ax2 = sns.distplot(expensive_lstat, color=\"green\", label=\"expensive\", ax = axs[1])\n",
    "ax2.legend()"
   ]
  },
  {
   "cell_type": "markdown",
   "id": "7eb89126",
   "metadata": {},
   "source": [
    "# treinamento"
   ]
  },
  {
   "cell_type": "code",
   "execution_count": 15,
   "id": "7d517afb",
   "metadata": {},
   "outputs": [],
   "source": [
    "# separar entradas e saídas\n",
    "X_train = train[['CRIM','ZN','INDUS','CHAS','NOX','RM','AGE','DIS','RAD','TAX','PTRATIO','LSTAT']]\n",
    "y_train = train[['MEDV']]\n",
    "X_test = test[['CRIM','ZN','INDUS','CHAS','NOX','RM','AGE','DIS','RAD','TAX','PTRATIO','LSTAT']]\n",
    "y_test = test[['MEDV']]"
   ]
  },
  {
   "cell_type": "code",
   "execution_count": 21,
   "id": "257e3d52",
   "metadata": {},
   "outputs": [
    {
     "name": "stdout",
     "output_type": "stream",
     "text": [
      "Performance of Linear Regression in the training set: 0.739\n"
     ]
    }
   ],
   "source": [
    "# MODELO 1: regressão linear\n",
    "mod_lr = LinearRegression()\n",
    "mod_lr.fit(X_train, y_train)\n",
    "y_train_hat = mod_lr.predict(X_train)\n",
    "per = mod_lr.score(X_train,y_train)\n",
    "print('Performance of Linear Regression in the training set:',\"{:.3f}\".format(per))"
   ]
  },
  {
   "cell_type": "code",
   "execution_count": 31,
   "id": "dfb3dc61",
   "metadata": {},
   "outputs": [
    {
     "name": "stdout",
     "output_type": "stream",
     "text": [
      "Performance of Linear SVM in the training set: 0.712\n"
     ]
    },
    {
     "name": "stderr",
     "output_type": "stream",
     "text": [
      "/home/rmaia/miniconda3/envs/dim0613/lib/python3.9/site-packages/sklearn/utils/validation.py:1107: DataConversionWarning: A column-vector y was passed when a 1d array was expected. Please change the shape of y to (n_samples, ), for example using ravel().\n",
      "  y = column_or_1d(y, warn=True)\n"
     ]
    }
   ],
   "source": [
    "# MODELO 2: SVM com kernel linear\n",
    "mod_svr = SVR(kernel='linear')\n",
    "mod_svr.fit(X_train, y_train)\n",
    "y_train_hat = mod_svr.predict(X_train)\n",
    "per = mod_svr.score(X_train,y_train)\n",
    "print('Performance of Linear SVM in the training set:',\"{:.3f}\".format(per))"
   ]
  },
  {
   "cell_type": "code",
   "execution_count": 27,
   "id": "670fd530",
   "metadata": {},
   "outputs": [
    {
     "name": "stdout",
     "output_type": "stream",
     "text": [
      "Accuracy of decision tree classifier in the training set: 0.936\n"
     ]
    }
   ],
   "source": [
    "# MODELO 3: árvore de decisão\n",
    "mod_dt = DecisionTreeRegressor(max_depth=5, random_state = 1)\n",
    "mod_dt.fit(X_train,y_train)\n",
    "per = mod_dt.score(X_train, y_train)\n",
    "print('Accuracy of decision tree classifier in the training set:',\"{:.3f}\".format(per))"
   ]
  },
  {
   "cell_type": "markdown",
   "id": "65620fb7",
   "metadata": {},
   "source": [
    "# teste dos modelos"
   ]
  },
  {
   "cell_type": "code",
   "execution_count": 32,
   "id": "8a7c03a3",
   "metadata": {},
   "outputs": [
    {
     "name": "stdout",
     "output_type": "stream",
     "text": [
      "Performance of Linear SVM in the training set: 0.709\n"
     ]
    }
   ],
   "source": [
    "per = mod_lr.score(X_test, y_test)\n",
    "print('Performance of Linear regression in the training set:',\"{:.3f}\".format(per))"
   ]
  },
  {
   "cell_type": "code",
   "execution_count": null,
   "id": "705f8bfa",
   "metadata": {},
   "outputs": [],
   "source": [
    "y_test_hat = mod_svm.predict(X_test)\n",
    "acc = metrics.accuracy_score(y_test_hat,y_test)\n",
    "print('The accuracy of Linear SVM is',\"{:.3f}\".format(acc))\n",
    "disp = metrics.plot_confusion_matrix(mod_svm, X_test, y_test,\n",
    "                                 display_labels=cn,\n",
    "                                 cmap=plt.cm.Blues,\n",
    "                                 normalize=None)\n",
    "disp.ax_.set_title('Confusion matrix, without normalization');"
   ]
  },
  {
   "cell_type": "code",
   "execution_count": null,
   "id": "ee76d7e6",
   "metadata": {},
   "outputs": [],
   "source": [
    "y_test_hat = mod_dt.predict(X_test)\n",
    "acc = metrics.accuracy_score(y_test_hat,y_test)\n",
    "print('The accuracy of Decision Tree Classifier is',\"{:.3f}\".format(acc))\n",
    "isp = metrics.plot_confusion_matrix(mod_dt, X_test, y_test,\n",
    "                                 display_labels=cn,\n",
    "                                 cmap=plt.cm.Blues,\n",
    "                                 normalize=None)\n",
    "disp.ax_.set_title('Confusion matrix, without normalization');"
   ]
  },
  {
   "cell_type": "code",
   "execution_count": null,
   "id": "de0c3141",
   "metadata": {},
   "outputs": [],
   "source": [
    "plt.figure(figsize = (20,10))\n",
    "plot_tree(mod_dt, feature_names = fn, class_names = cn, filled = True);"
   ]
  },
  {
   "cell_type": "markdown",
   "id": "d76cd428",
   "metadata": {},
   "source": [
    "# observando overfitting, underfitting e ajuste de hiperparâmetros"
   ]
  },
  {
   "cell_type": "code",
   "execution_count": null,
   "id": "8485190e",
   "metadata": {},
   "outputs": [],
   "source": [
    "from sklearn.model_selection import learning_curve, validation_curve\n",
    "from sklearn.datasets import load_iris\n",
    "# carregando dados pela biblioteca do scikit-learn\n",
    "X, y = load_iris(return_X_y=True)\n",
    "#X=X_train.to_numpy()\n",
    "#y = pd.Categorical(y_train).codes"
   ]
  },
  {
   "cell_type": "code",
   "execution_count": null,
   "id": "db9bcd0d",
   "metadata": {},
   "outputs": [],
   "source": [
    "# observando a importância do tamanho da base de dados\n",
    "sizes = [0.2, 0.4, 0.6, 0.8, 1.0]\n",
    "# MODELO 1\n",
    "train_sizes, train_scores_model1, valid_scores_model1 = learning_curve(\n",
    "    mod_lr,\n",
    "    X, y,\n",
    "    train_sizes=sizes,\n",
    "    cv=5)\n",
    "# MODELO 2\n",
    "train_sizes, train_scores_model2, valid_scores_model2 = learning_curve(\n",
    "    mod_svm,\n",
    "    X, y,\n",
    "    train_sizes=sizes,\n",
    "    cv=5)\n",
    "# MODELO 3\n",
    "train_sizes, train_scores_model3, valid_scores_model3 = learning_curve(\n",
    "    mod_dt,\n",
    "    X, y,\n",
    "    train_sizes=sizes,\n",
    "    cv=5)"
   ]
  },
  {
   "cell_type": "code",
   "execution_count": null,
   "id": "404a0356",
   "metadata": {},
   "outputs": [],
   "source": [
    "fig, ax = plt.subplots(figsize=(18,5))\n",
    "ax.plot(sizes,np.mean(train_scores_model1, axis=1))\n",
    "ax.plot(sizes,np.mean(valid_scores_model1, axis=1))\n",
    "ax.plot(sizes,np.mean(train_scores_model2, axis=1))\n",
    "ax.plot(sizes,np.mean(valid_scores_model2, axis=1))\n",
    "ax.plot(sizes,np.mean(train_scores_model3, axis=1))\n",
    "ax.plot(sizes,np.mean(valid_scores_model3, axis=1))\n",
    "plt.legend(['train_scores_model1',\n",
    "            'valid_scores_model1',\n",
    "            'train_scores_model2',\n",
    "            'valid_scores_model2',\n",
    "            'train_scores_model3',\n",
    "            'valid_scores_model3'])\n",
    "plt.grid()\n",
    "plt.xlabel('Data amount (%)')\n",
    "plt.ylabel('Accuracy')\n",
    "plt.show()"
   ]
  },
  {
   "cell_type": "code",
   "execution_count": null,
   "id": "d21d1491",
   "metadata": {},
   "outputs": [],
   "source": [
    "# observando a importância do ajuste dos hiperparâmetros\n",
    "train_scores_model1, valid_scores_model1 = validation_curve(\n",
    "    mod_lr,\n",
    "    X, y,\n",
    "    param_name=\"C\",\n",
    "    param_range=np.linspace(0.1, 1, 10),\n",
    "    cv=5)\n",
    "train_scores_model2, valid_scores_model2 = validation_curve(\n",
    "    mod_svm,\n",
    "    X, y,\n",
    "    param_name=\"C\",\n",
    "    param_range=np.linspace(0.1, 1, 10),\n",
    "    cv=5)\n",
    "train_scores_model3, valid_scores_model3 = validation_curve(\n",
    "    mod_dt,\n",
    "    X, y,\n",
    "    param_name=\"min_weight_fraction_leaf\",\n",
    "    param_range=np.linspace(0, 0.1, 10),\n",
    "    cv=5)"
   ]
  },
  {
   "cell_type": "code",
   "execution_count": null,
   "id": "2c9256cd",
   "metadata": {},
   "outputs": [],
   "source": [
    "fig, ax = plt.subplots(figsize=(18,5))\n",
    "ax.plot(np.mean(train_scores_model1, axis=1))\n",
    "ax.plot(np.mean(valid_scores_model1, axis=1))\n",
    "ax.plot(np.mean(train_scores_model2, axis=1))\n",
    "ax.plot(np.mean(valid_scores_model2, axis=1))\n",
    "ax.plot(np.mean(train_scores_model3, axis=1))\n",
    "ax.plot(np.mean(valid_scores_model3, axis=1))\n",
    "plt.legend(['train_scores_model1',\n",
    "            'valid_scores_model1',\n",
    "            'train_scores_model2',\n",
    "            'valid_scores_model2',\n",
    "            'train_scores_model3',\n",
    "            'valid_scores_model3'])\n",
    "plt.grid()\n",
    "plt.xlabel('Hyperparameter')\n",
    "plt.ylabel('Accuracy')\n",
    "plt.show()"
   ]
  },
  {
   "cell_type": "code",
   "execution_count": null,
   "id": "7a5183f5",
   "metadata": {},
   "outputs": [],
   "source": []
  }
 ],
 "metadata": {
  "kernelspec": {
   "display_name": "Python 3 (ipykernel)",
   "language": "python",
   "name": "python3"
  },
  "language_info": {
   "codemirror_mode": {
    "name": "ipython",
    "version": 3
   },
   "file_extension": ".py",
   "mimetype": "text/x-python",
   "name": "python",
   "nbconvert_exporter": "python",
   "pygments_lexer": "ipython3",
   "version": "3.9.12"
  }
 },
 "nbformat": 4,
 "nbformat_minor": 5
}
