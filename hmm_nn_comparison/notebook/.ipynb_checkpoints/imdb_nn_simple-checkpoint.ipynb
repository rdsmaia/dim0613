{
 "cells": [
  {
   "cell_type": "code",
   "execution_count": 1,
   "id": "4050c939",
   "metadata": {},
   "outputs": [
    {
     "name": "stderr",
     "output_type": "stream",
     "text": [
      "2022-06-28 15:29:19.053136: W tensorflow/stream_executor/platform/default/dso_loader.cc:64] Could not load dynamic library 'libcudart.so.11.0'; dlerror: libcudart.so.11.0: cannot open shared object file: No such file or directory\n",
      "2022-06-28 15:29:19.053169: I tensorflow/stream_executor/cuda/cudart_stub.cc:29] Ignore above cudart dlerror if you do not have a GPU set up on your machine.\n"
     ]
    }
   ],
   "source": [
    "import numpy as np\n",
    "from tensorflow import keras\n",
    "from keras.datasets import imdb\n",
    "from tensorflow.keras.datasets import imdb\n",
    "from tensorflow.keras import models, layers, optimizers, losses, metrics"
   ]
  },
  {
   "cell_type": "code",
   "execution_count": 13,
   "id": "0cca1e03",
   "metadata": {},
   "outputs": [],
   "source": [
    "def vectorize_sequences(sequences, dimension=2000):\n",
    "    results = np.zeros((len(sequences), dimension))    # Creates an all zero matrix of shape (len(sequences),10K)\n",
    "    for i,sequence in enumerate(sequences):\n",
    "        results[i,sequence] = 1                        # Sets specific indices of results[i] to 1s\n",
    "    return results"
   ]
  },
  {
   "cell_type": "code",
   "execution_count": 14,
   "id": "f678d31f",
   "metadata": {},
   "outputs": [],
   "source": [
    "(train_data, train_labels), (test_data, test_labels) = imdb.load_data(num_words = 2000)"
   ]
  },
  {
   "cell_type": "code",
   "execution_count": 15,
   "id": "6200d422",
   "metadata": {},
   "outputs": [
    {
     "name": "stdout",
     "output_type": "stream",
     "text": [
      "<class 'list'>\n",
      "Maximum word index: 1999\n",
      "Minimum word index: 1\n",
      "Maximum seq length: 2494\n",
      "Minimum seq length: 11\n"
     ]
    }
   ],
   "source": [
    "print(type([max(sequence) for sequence in train_data]))\n",
    "\n",
    "# Find the maximum of all max indexes\n",
    "max_word_index = max([max(sequence) for sequence in train_data])\n",
    "min_word_index = min([min(sequence) for sequence in train_data])\n",
    "max_len_seq = max([len(sequence) for sequence in train_data])\n",
    "min_len_seq = min([len(sequence) for sequence in train_data])\n",
    "print(f'Maximum word index: {max_word_index}')\n",
    "print(f'Minimum word index: {min_word_index}')\n",
    "print(f'Maximum seq length: {max_len_seq}')\n",
    "print(f'Minimum seq length: {min_len_seq}')"
   ]
  },
  {
   "cell_type": "code",
   "execution_count": 16,
   "id": "47cedd8c",
   "metadata": {},
   "outputs": [
    {
     "name": "stdout",
     "output_type": "stream",
     "text": [
      "REVIEW:\n",
      " ? i don't know what it is i find so ? about this film but the first time i saw it i wanted to see how it ended i'm not a big fan of paul ? nor of war ? but i was truly wondering just how and when ? would find his child all he knows is that the boy has green eyes truth be told i have not seen this movie in years nor has it been shown on tv in a while but this movie is somewhat of one man's ? after the ? of war ? shows a very ? and heart ? portrayal of a man lost by his memories there is an ? message in this movie that he is looking for the last ? of human ? in the ? of this war and the reality that he does ? why this movie is not yet on dvd or video is a mystery to me\n",
      "\n",
      "Encoded sequence of words:\n",
      " [1, 13, 92, 124, 51, 12, 9, 13, 169, 38, 2, 44, 14, 22, 21, 4, 86, 58, 13, 219, 12, 13, 473, 8, 67, 89, 12, 1054, 146, 24, 6, 194, 337, 7, 723, 2, 885, 7, 325, 2, 21, 13, 16, 371, 1535, 43, 89, 5, 54, 2, 62, 169, 27, 506, 32, 29, 694, 9, 15, 4, 430, 47, 1419, 523, 882, 30, 579, 13, 28, 24, 110, 14, 20, 11, 153, 885, 47, 12, 77, 617, 23, 248, 11, 6, 137, 21, 14, 20, 9, 643, 7, 31, 1601, 2, 103, 4, 2, 7, 325, 2, 287, 6, 55, 2, 5, 483, 2, 1146, 7, 6, 132, 416, 34, 27, 1883, 50, 9, 35, 2, 749, 11, 14, 20, 15, 29, 9, 267, 18, 4, 236, 2, 7, 406, 2, 11, 4, 2, 7, 14, 325, 5, 4, 635, 15, 29, 127, 2, 138, 14, 20, 9, 24, 246, 23, 288, 42, 374, 9, 6, 736, 8, 72]\n",
      "\n",
      "Label: 1\n",
      "\n"
     ]
    }
   ],
   "source": [
    "word_index = imdb.get_word_index()\n",
    "\n",
    "ind = 33\n",
    "\n",
    "# step 2: reverse word index to map integer indexes to their respective words\n",
    "reverse_word_index = dict([(value, key) for (key, value) in word_index.items()])\n",
    "\n",
    "# Step 3: decode the review, mapping integer indices to words\n",
    "#\n",
    "# indices are off by 3 because 0, 1, and 2 are reserverd indices for \"padding\", \"Start of sequence\" and \"unknown\"\n",
    "decoded_review = ' '.join([reverse_word_index.get(i-3, '?') for i in train_data[ind]])\n",
    "\n",
    "print(f'REVIEW:\\n {decoded_review}\\n')\n",
    "print(f'Encoded sequence of words:\\n {train_data[ind]}\\n')\n",
    "print(f'Label: {train_labels[ind]}\\n')"
   ]
  },
  {
   "cell_type": "code",
   "execution_count": 20,
   "id": "7ff18009",
   "metadata": {},
   "outputs": [],
   "source": [
    "# Vectorize training Data\n",
    "X_train = vectorize_sequences(train_data)\n",
    "\n",
    "# Vectorize testing Data\n",
    "X_test = vectorize_sequences(test_data)"
   ]
  },
  {
   "cell_type": "code",
   "execution_count": 22,
   "id": "08f404c1",
   "metadata": {},
   "outputs": [
    {
     "name": "stdout",
     "output_type": "stream",
     "text": [
      "(25000, 10000)\n",
      "(25000, 10000)\n"
     ]
    }
   ],
   "source": [
    "print(X_train.shape)\n",
    "print(X_test.shape)"
   ]
  },
  {
   "cell_type": "code",
   "execution_count": 23,
   "id": "8f89ce1d",
   "metadata": {},
   "outputs": [],
   "source": [
    "y_train = np.asarray(train_labels).astype('float32')\n",
    "y_test  = np.asarray(test_labels).astype('float32')"
   ]
  },
  {
   "cell_type": "code",
   "execution_count": 24,
   "id": "1aa72928",
   "metadata": {},
   "outputs": [
    {
     "name": "stdout",
     "output_type": "stream",
     "text": [
      "(25000,)\n",
      "(25000,)\n"
     ]
    }
   ],
   "source": [
    "print(y_train.shape)\n",
    "print(y_test.shape)"
   ]
  },
  {
   "cell_type": "code",
   "execution_count": 25,
   "id": "2220d80a",
   "metadata": {},
   "outputs": [
    {
     "name": "stderr",
     "output_type": "stream",
     "text": [
      "2022-06-27 17:33:46.932930: W tensorflow/stream_executor/platform/default/dso_loader.cc:64] Could not load dynamic library 'libcuda.so.1'; dlerror: libcuda.so.1: cannot open shared object file: No such file or directory\n",
      "2022-06-27 17:33:46.951639: W tensorflow/stream_executor/cuda/cuda_driver.cc:269] failed call to cuInit: UNKNOWN ERROR (303)\n",
      "2022-06-27 17:33:46.996675: I tensorflow/stream_executor/cuda/cuda_diagnostics.cc:156] kernel driver does not appear to be running on this host (maia-Latitude-E5450): /proc/driver/nvidia/version does not exist\n",
      "2022-06-27 17:33:47.625095: I tensorflow/core/platform/cpu_feature_guard.cc:193] This TensorFlow binary is optimized with oneAPI Deep Neural Network Library (oneDNN) to use the following CPU instructions in performance-critical operations:  AVX2 FMA\n",
      "To enable them in other operations, rebuild TensorFlow with the appropriate compiler flags.\n"
     ]
    }
   ],
   "source": [
    "from keras import models\n",
    "from keras import layers\n",
    "\n",
    "model = models.Sequential()\n",
    "model.add(layers.Dense(16, activation='relu', input_shape=(10000,)))\n",
    "model.add(layers.Dense(16, activation='relu'))\n",
    "model.add(layers.Dense(1, activation='sigmoid'))"
   ]
  },
  {
   "cell_type": "code",
   "execution_count": 26,
   "id": "d66ed226",
   "metadata": {},
   "outputs": [
    {
     "name": "stderr",
     "output_type": "stream",
     "text": [
      "/home/rmaia/miniconda3/envs/dim0613/lib/python3.9/site-packages/keras/optimizers/optimizer_v2/rmsprop.py:135: UserWarning: The `lr` argument is deprecated, use `learning_rate` instead.\n",
      "  super(RMSprop, self).__init__(name, **kwargs)\n"
     ]
    }
   ],
   "source": [
    "from keras import optimizers\n",
    "from keras import losses\n",
    "from keras import metrics\n",
    "\n",
    "model.compile(optimizer=optimizers.RMSprop(lr=0.001),\n",
    "              loss = losses.binary_crossentropy,\n",
    "              metrics = [metrics.binary_accuracy])"
   ]
  },
  {
   "cell_type": "code",
   "execution_count": 27,
   "id": "883357d5",
   "metadata": {},
   "outputs": [],
   "source": [
    "# Input for Validation\n",
    "X_val = X_train[:10000]\n",
    "partial_X_train = X_train[10000:]\n",
    "\n",
    "# Labels for validation\n",
    "y_val = y_train[:10000]\n",
    "partial_y_train = y_train[10000:]"
   ]
  },
  {
   "cell_type": "code",
   "execution_count": 28,
   "id": "15b871c2",
   "metadata": {},
   "outputs": [
    {
     "name": "stderr",
     "output_type": "stream",
     "text": [
      "2022-06-27 17:34:59.983898: W tensorflow/core/framework/cpu_allocator_impl.cc:82] Allocation of 600000000 exceeds 10% of free system memory.\n"
     ]
    },
    {
     "name": "stdout",
     "output_type": "stream",
     "text": [
      "Epoch 1/20\n",
      "116/118 [============================>.] - ETA: 0s - loss: 0.4097 - binary_accuracy: 0.8372"
     ]
    },
    {
     "name": "stderr",
     "output_type": "stream",
     "text": [
      "2022-06-27 17:36:31.483955: W tensorflow/core/framework/cpu_allocator_impl.cc:82] Allocation of 400000000 exceeds 10% of free system memory.\n"
     ]
    },
    {
     "name": "stdout",
     "output_type": "stream",
     "text": [
      "118/118 [==============================] - 143s 1s/step - loss: 0.4080 - binary_accuracy: 0.8380 - val_loss: 0.3461 - val_binary_accuracy: 0.8563\n",
      "Epoch 2/20\n",
      "118/118 [==============================] - 2s 9ms/step - loss: 0.2163 - binary_accuracy: 0.9201 - val_loss: 0.2741 - val_binary_accuracy: 0.8917\n",
      "Epoch 3/20\n",
      "118/118 [==============================] - 1s 9ms/step - loss: 0.1570 - binary_accuracy: 0.9434 - val_loss: 0.2991 - val_binary_accuracy: 0.8872\n",
      "Epoch 4/20\n",
      "118/118 [==============================] - 1s 10ms/step - loss: 0.1211 - binary_accuracy: 0.9563 - val_loss: 0.3558 - val_binary_accuracy: 0.8706\n",
      "Epoch 5/20\n",
      "118/118 [==============================] - 1s 10ms/step - loss: 0.0949 - binary_accuracy: 0.9654 - val_loss: 0.3614 - val_binary_accuracy: 0.8781\n",
      "Epoch 6/20\n",
      "118/118 [==============================] - 1s 9ms/step - loss: 0.0709 - binary_accuracy: 0.9766 - val_loss: 0.4192 - val_binary_accuracy: 0.8725\n",
      "Epoch 7/20\n",
      "118/118 [==============================] - 1s 10ms/step - loss: 0.0535 - binary_accuracy: 0.9825 - val_loss: 0.4716 - val_binary_accuracy: 0.8744\n",
      "Epoch 8/20\n",
      "118/118 [==============================] - 1s 10ms/step - loss: 0.0388 - binary_accuracy: 0.9874 - val_loss: 0.5675 - val_binary_accuracy: 0.8670\n",
      "Epoch 9/20\n",
      "118/118 [==============================] - 1s 10ms/step - loss: 0.0268 - binary_accuracy: 0.9917 - val_loss: 0.6383 - val_binary_accuracy: 0.8578\n",
      "Epoch 10/20\n",
      "118/118 [==============================] - 1s 10ms/step - loss: 0.0188 - binary_accuracy: 0.9948 - val_loss: 0.6924 - val_binary_accuracy: 0.8666\n",
      "Epoch 11/20\n",
      "118/118 [==============================] - 1s 10ms/step - loss: 0.0117 - binary_accuracy: 0.9970 - val_loss: 0.7743 - val_binary_accuracy: 0.8651\n",
      "Epoch 12/20\n",
      "118/118 [==============================] - 1s 10ms/step - loss: 0.0076 - binary_accuracy: 0.9982 - val_loss: 0.8840 - val_binary_accuracy: 0.8625\n",
      "Epoch 13/20\n",
      "118/118 [==============================] - 1s 10ms/step - loss: 0.0044 - binary_accuracy: 0.9991 - val_loss: 0.9848 - val_binary_accuracy: 0.8606\n",
      "Epoch 14/20\n",
      "118/118 [==============================] - 1s 10ms/step - loss: 0.0025 - binary_accuracy: 0.9997 - val_loss: 1.0760 - val_binary_accuracy: 0.8583\n",
      "Epoch 15/20\n",
      "118/118 [==============================] - 1s 10ms/step - loss: 0.0020 - binary_accuracy: 0.9997 - val_loss: 1.1581 - val_binary_accuracy: 0.8583\n",
      "Epoch 16/20\n",
      "118/118 [==============================] - 1s 11ms/step - loss: 0.0013 - binary_accuracy: 0.9996 - val_loss: 1.2976 - val_binary_accuracy: 0.8532\n",
      "Epoch 17/20\n",
      "118/118 [==============================] - 1s 11ms/step - loss: 5.6949e-04 - binary_accuracy: 0.9999 - val_loss: 1.3520 - val_binary_accuracy: 0.8591\n",
      "Epoch 18/20\n",
      "118/118 [==============================] - 1s 9ms/step - loss: 3.7625e-04 - binary_accuracy: 0.9999 - val_loss: 1.4300 - val_binary_accuracy: 0.8565\n",
      "Epoch 19/20\n",
      "118/118 [==============================] - 1s 10ms/step - loss: 1.7162e-04 - binary_accuracy: 1.0000 - val_loss: 1.5359 - val_binary_accuracy: 0.8567\n",
      "Epoch 20/20\n",
      "118/118 [==============================] - 1s 10ms/step - loss: 6.7461e-05 - binary_accuracy: 1.0000 - val_loss: 1.6739 - val_binary_accuracy: 0.8561\n"
     ]
    }
   ],
   "source": [
    "history = model.fit(partial_X_train,\n",
    "                   partial_y_train,\n",
    "                   epochs=20,\n",
    "                   batch_size=128,\n",
    "                   validation_data=(X_val, y_val))"
   ]
  },
  {
   "cell_type": "code",
   "execution_count": 30,
   "id": "9342e4f0",
   "metadata": {},
   "outputs": [
    {
     "data": {
      "image/png": "[encoded data removed]",
      "text/plain": [
       "<Figure size 432x288 with 1 Axes>"
      ]
     },
     "metadata": {
      "needs_background": "light"
     },
     "output_type": "display_data"
    }
   ],
   "source": [
    "import matplotlib.pyplot as plt\n",
    "\n",
    "history_dict = history.history\n",
    "history_dict.keys()\n",
    "\n",
    "# Plotting losses\n",
    "loss_values = history_dict['loss']\n",
    "val_loss_values = history_dict['val_loss']\n",
    "\n",
    "epochs = range(1, len(loss_values) + 1)\n",
    "\n",
    "plt.plot(epochs, loss_values, 'bo', label=\"Training Loss\")\n",
    "plt.plot(epochs, val_loss_values, 'b', label=\"Validation Loss\")\n",
    "\n",
    "plt.title('Training and Validation Loss')\n",
    "plt.xlabel('Epochs')\n",
    "plt.ylabel('Loss Value')\n",
    "plt.legend()\n",
    "\n",
    "plt.show()"
   ]
  },
  {
   "cell_type": "code",
   "execution_count": 31,
   "id": "c232b96a",
   "metadata": {},
   "outputs": [
    {
     "data": {
      "image/png": "[encoded data removed]",
      "text/plain": [
       "<Figure size 432x288 with 1 Axes>"
      ]
     },
     "metadata": {
      "needs_background": "light"
     },
     "output_type": "display_data"
    }
   ],
   "source": [
    "acc_values = history_dict['binary_accuracy']\n",
    "val_acc_values = history_dict['val_binary_accuracy']\n",
    "\n",
    "epochs = range(1, len(loss_values) + 1)\n",
    "\n",
    "plt.plot(epochs, acc_values, 'ro', label=\"Training Accuracy\")\n",
    "plt.plot(epochs, val_acc_values, 'r', label=\"Validation Accuracy\")\n",
    "\n",
    "plt.title('Training and Validation Accuraccy')\n",
    "plt.xlabel('Epochs')\n",
    "plt.ylabel('Accuracy')\n",
    "plt.legend()\n",
    "\n",
    "plt.show()"
   ]
  },
  {
   "cell_type": "code",
   "execution_count": null,
   "id": "91a7f13d",
   "metadata": {},
   "outputs": [],
   "source": []
  }
 ],
 "metadata": {
  "kernelspec": {
   "display_name": "Python 3 (ipykernel)",
   "language": "python",
   "name": "python3"
  },
  "language_info": {
   "codemirror_mode": {
    "name": "ipython",
    "version": 3
   },
   "file_extension": ".py",
   "mimetype": "text/x-python",
   "name": "python",
   "nbconvert_exporter": "python",
   "pygments_lexer": "ipython3",
   "version": "3.9.12"
  }
 },
 "nbformat": 4,
 "nbformat_minor": 5
}
